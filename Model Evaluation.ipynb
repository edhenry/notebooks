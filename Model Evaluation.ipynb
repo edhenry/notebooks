{
 "cells": [
  {
   "cell_type": "markdown",
   "metadata": {},
   "source": [
    "# Precision, Recall, F-1 Score and more\n",
    "\n",
    "In this notebook we're going to cover the concepts of `Preicision` and `Recall` and how we can use these as measurements for the overall performance of a our model. These are useful measures past the traditional measure of accuracy.\n",
    "\n",
    "## Precision\n",
    "\n",
    "The precision of our model is seen as the ratio of `True Positive` values over all `Positive` values the model has evaluated.\n",
    "\n",
    "$$ \\frac{T_p}{T_{p} + F_{p}} $$\n",
    "\n",
    "This is not to be confused with the precision from a statistical perspective which is the the inverse variance of a distribution, or $\\frac{1}{\\sigma^2}$. This is a different value and concept, altogether, which allows us to evaluate the performance of our model, over all.\n",
    "\n",
    "Precision asks the question \"What proportion of positive indentifications was _actually_ correct?\"\n",
    "\n",
    "## Recall\n",
    "\n",
    "The recall is another ratio, this time it is the ratio of the number of `True Positives` over the sum of the `True Positives` and `False Negatives`.\n",
    "\n",
    "$$ \\frac{T_{p}}{T_{p} + F_{n}} $$\n",
    "\n",
    "A system with high recall, and low precision, returns many results but the labels that were predicted for given inputs are mostly incorrect compared to the training labels.\n",
    "\n",
    "Recall attempts to answer the question \"What proportion of actual positives was identified correctly?\"\n",
    "\n",
    "\n",
    "## Model Performance Interpretation\n",
    "\n",
    "### High Precision\n",
    "\n",
    "A system which has high precision, is a system that returns very few total results but the results that it does return are accurate to the training labels that are provided with the evaluated examples. High precision typically related to a low `False Positive` rate, overall.\n",
    "\n",
    "\n",
    "### Perfect Precision and Recall\n",
    "\n",
    "A system that has both a value of `1.0` or 100% for both precision and recall is said to be a perfect predictor of the underlying data generating distribution. Though the reality is that there likely exists enough noise within the underlying data generating system taht we'll eventually come up against [Bayes Error Rate]() which will prevent our model from increasing in performance in either capacity.\n",
    "\n",
    "### Initial Investigative Setup\n",
    "\n",
    "Before we dive into what these metrics for measuring the performance of a model look like we need to setup our experiment by downloading our dataset and splitting it into the respect training, validation, and test sets that allow us to measure the overall performance of our model. We will be leveraging many of the native functionality to the scikit-learn library to help ease this burden.\n",
    "\n",
    "### Breast Cancer Evaluation\n",
    "\n",
    "Using the Breast Cancer dataset that is housed within the [UCI Repository](https://archive.ics.uci.edu/ml/datasets/breast+cancer+wisconsin+(original)) we can perform some quick `GridSearch` over a simple Support Vector Machine (SVM) model to try and find the best performing hyperparameters of two specific kernels for SVM's, specifically a linear kernel and a radial basis function `RBF` kernel."
   ]
  },
  {
   "cell_type": "code",
   "execution_count": 1,
   "metadata": {},
   "outputs": [],
   "source": [
    "# import and split the training dataset \n",
    "# here we're using the Breast Cancer Wisconsin Dataset\n",
    "import pandas as pd \n",
    "from sklearn.preprocessing import LabelEncoder\n",
    "from sklearn.model_selection import train_test_split\n",
    "from sklearn import datasets\n",
    "\n",
    "# load the breast cancer dataset provided with scikit-learn\n",
    "breast_cancer = datasets.load_breast_cancer()\n",
    "\n",
    "# Convert labels in the dataframe to integer representations\n",
    "# in this case they'll be binary labels\n",
    "# 0 - benign (no cancer)\n",
    "# 1 - malignant (cancer)\n",
    "\n",
    "# break the dataset into data (x) and targets (y)\n",
    "X = breast_cancer['data']\n",
    "y = breast_cancer['target']\n",
    "\n",
    "# splitting the dataset into training, validation, and test sets\n",
    "X_train, x_test, y_train, y_test = train_test_split(X, y, test_size=0.20, random_state=1)"
   ]
  },
  {
   "cell_type": "code",
   "execution_count": 2,
   "metadata": {},
   "outputs": [
    {
     "name": "stdout",
     "output_type": "stream",
     "text": [
      "Best Score --> 0.9846153846153847\n",
      "Best Parameters --> {'clf__C': 0.1, 'clf__kernel': 'linear'}\n",
      "Test Accuracy : 0.9649122807017544\n"
     ]
    },
    {
     "name": "stderr",
     "output_type": "stream",
     "text": [
      "/conda/envs/rapids/lib/python3.6/site-packages/sklearn/model_selection/_search.py:841: DeprecationWarning: The default of the `iid` parameter will change from True to False in version 0.22 and will be removed in 0.24. This will change numeric results when test-set sizes are unequal.\n",
      "  DeprecationWarning)\n"
     ]
    }
   ],
   "source": [
    "# these examples are borrowed from Python Machine Learning by Sebastian Raschka\n",
    "from sklearn.model_selection import GridSearchCV\n",
    "from sklearn.svm import SVC\n",
    "from sklearn.pipeline import Pipeline\n",
    "from sklearn.preprocessing import StandardScaler\n",
    "\n",
    "scaler = StandardScaler()\n",
    "\n",
    "pipe_svc = Pipeline([('scl', scaler),\n",
    "                     ('clf', SVC(random_state=1))])\n",
    "\n",
    "param_range = [0.0001, 0.001, 0.01, 0.1, 1.0, 10.0, 100.0, 1000.0]\n",
    "param_grid = [{'clf__C': param_range,\n",
    "               'clf__kernel': ['linear']},\n",
    "              {'clf__C': param_range,\n",
    "               'clf__gamma': param_range,\n",
    "               'clf__kernel': ['rbf']}]\n",
    "\n",
    "gs = GridSearchCV(estimator=pipe_svc,\n",
    "                  param_grid=param_grid,\n",
    "                  scoring='accuracy',\n",
    "                  cv=100,\n",
    "                  n_jobs=-1)\n",
    "\n",
    "gs.fit(X_train, y_train)\n",
    "print(f\"Best Score --> {gs.best_score_}\")\n",
    "print(f\"Best Parameters --> {gs.best_params_}\")\n",
    "\n",
    "clf = gs.best_estimator_\n",
    "clf.fit(X_train, y_train)\n",
    "print(f\"Test Accuracy : {clf.score(x_test, y_test)}\")"
   ]
  },
  {
   "cell_type": "markdown",
   "metadata": {},
   "source": [
    "### Monitoring Model Performance\n",
    "\n",
    "We can monitor the performance of our model as it is training and understand if we're hitting a point at which are model may start to under or over perform, also known as the bias-variance trade off that is made when selecting models. A model is said to be high bias when it starts to underfit our data in that the model doesn't have sufficient complexity to capture the variance in our dataset collected from a data generating distribution. A model is said to have high variance, or overfits our dataset, when the model's complexity is high enough that is it able to completely fit our datasets with 100% accuracy. You might also hear terms such as a high number of degrees of freedom or parameters to describe this phenomenon.\n",
    "\n",
    "As a side note many researchers and practitioners in the field of Machine Learning generally look to understanding why parametric models such as neural networks with parameter counts far exceeding the dimensionality of the input tend to perform well with respect to generalization error. This is an open problem and many people are working diligently to try an explain this phenomenon.\n",
    "\n",
    "Below we will graph the performance of our (relatively) simple SVM grid-search implementation."
   ]
  },
  {
   "cell_type": "code",
   "execution_count": 49,
   "metadata": {},
   "outputs": [
    {
     "data": {
      "application/vnd.jupyter.widget-view+json": {
       "model_id": "e7da6d7e8f1848c49abe41153d40a8ca",
       "version_major": 2,
       "version_minor": 0
      },
      "text/plain": [
       "FigureCanvasNbAgg()"
      ]
     },
     "metadata": {},
     "output_type": "display_data"
    },
    {
     "data": {
      "text/plain": [
       "(0.8, 1.0)"
      ]
     },
     "execution_count": 49,
     "metadata": {},
     "output_type": "execute_result"
    }
   ],
   "source": [
    "import matplotlib.pyplot as plt\n",
    "from sklearn.model_selection import learning_curve\n",
    "import numpy as np\n",
    "from sklearn.linear_model import LogisticRegression\n",
    "\n",
    "lreg = LogisticRegression(penalty='l2', random_state=0, solver='newton-cg')\n",
    "\n",
    "scaler = StandardScaler()\n",
    "\n",
    "pipe_lr = Pipeline([\n",
    "                    ('scl', scaler),\n",
    "                    ('clf', lreg)])\n",
    "\n",
    "\n",
    "train_sizes, train_scores, test_scores = learning_curve(estimator=pipe_lr,\n",
    "                                                        X=X_train,\n",
    "                                                        y=y_train,\n",
    "                                                        train_sizes=np.linspace(0.1, 1.0, 10),\n",
    "                                                        cv=10,\n",
    "                                                        n_jobs=-1)\n",
    "\n",
    "train_mean = np.mean(train_scores, axis=1)\n",
    "train_std = np.std(train_scores, axis=1)\n",
    "test_mean = np.mean(test_scores, axis=1)\n",
    "test_std = np.std(test_scores, axis=1)\n",
    "\n",
    "%matplotlib widget\n",
    "\n",
    "fig, axes = plt.subplots()\n",
    "\n",
    "#plt.figure(figsize=(30,30))\n",
    "axes.plot(train_sizes, train_mean, color='blue', \n",
    "         marker='o', markersize=5, label='training_accuracy')\n",
    "\n",
    "axes.fill_between(train_sizes, train_mean + train_std, train_mean - train_std,\n",
    "                 alpha=0.15, color='blue')\n",
    "\n",
    "axes.plot(train_sizes, test_mean, color='green',\n",
    "         linestyle=\"--\", marker='s', markersize=5,\n",
    "         label='validation_accuracy')\n",
    "\n",
    "axes.fill_between(train_sizes, test_mean + test_std, test_mean - test_std,\n",
    "                 alpha = 0.15, color = 'green')\n",
    "\n",
    "axes.grid()\n",
    "axes.set_xlabel(\"Number of training examples\")\n",
    "axes.set_ylabel(\"Accuracy\")\n",
    "axes.legend(loc='lower right')\n",
    "axes.set_ylim([0.8, 1.0])"
   ]
  },
  {
   "cell_type": "code",
   "execution_count": 82,
   "metadata": {},
   "outputs": [
    {
     "data": {
      "application/vnd.jupyter.widget-view+json": {
       "model_id": "e1d37acbed95453b9c7c61274baeee37",
       "version_major": 2,
       "version_minor": 0
      },
      "text/plain": [
       "FigureCanvasNbAgg()"
      ]
     },
     "metadata": {},
     "output_type": "display_data"
    },
    {
     "data": {
      "text/plain": [
       "(0.8, 1.0)"
      ]
     },
     "execution_count": 82,
     "metadata": {},
     "output_type": "execute_result"
    }
   ],
   "source": [
    "# Forced Overfitting\n",
    "from sklearn.model_selection import validation_curve\n",
    "\n",
    "param_range = [0.001, 0.01, 0.1, 10.0, 100.0, 1000.0]\n",
    "train_scores, test_scores = validation_curve(\n",
    "                                             estimator=pipe_lr,\n",
    "                                             X=X_train,\n",
    "                                             y=y_train,\n",
    "                                             param_name='clf__C',\n",
    "                                             param_range=param_range,\n",
    "                                             cv=10)\n",
    "\n",
    "train_mean = np.mean(train_scores, axis=1)\n",
    "train_std = np.std(train_scores, axis=1)\n",
    "test_mean = np.mean(test_scores, axis=1)\n",
    "test_std = np.std(test_scores, axis=1)\n",
    "\n",
    "fig1, axes1 = plt.subplots()\n",
    "\n",
    "axes1.plot(param_range, train_mean, color='blue',\n",
    "         marker='o', markersize=5, label=\"training_accuracy\")\n",
    "\n",
    "axes1.fill_between(param_range, train_mean + train_std, train_mean - train_std,\n",
    "                 alpha=0.15, color='blue')\n",
    "\n",
    "axes1.plot(param_range, test_mean, color='green',\n",
    "         linestyle='--', marker='s', markersize=5,\n",
    "         label='validation_accuracy')\n",
    "\n",
    "axes1.fill_between(param_range, test_mean + test_std, test_mean - test_std,\n",
    "                 alpha=0.15, color='green')\n",
    "axes1.arrow(param_range[-1],train_mean[-1], (0.0), (0.1), fc='k', ec='k', head_width=0.05, length_includes_head=True)\n",
    "axes1.grid()\n",
    "axes1.set_xscale('log')\n",
    "axes1.legend(loc='lower right')\n",
    "axes1.set_xlabel(\"Parameter C\")\n",
    "axes1.set_ylabel(\"Accuracy\")\n",
    "axes1.set_ylim([0.8, 1.0])\n",
    "\n"
   ]
  }
 ],
 "metadata": {
  "kernelspec": {
   "display_name": "Python 3",
   "language": "python",
   "name": "python3"
  },
  "language_info": {
   "codemirror_mode": {
    "name": "ipython",
    "version": 3
   },
   "file_extension": ".py",
   "mimetype": "text/x-python",
   "name": "python",
   "nbconvert_exporter": "python",
   "pygments_lexer": "ipython3",
   "version": "3.6.8"
  }
 },
 "nbformat": 4,
 "nbformat_minor": 2
}
