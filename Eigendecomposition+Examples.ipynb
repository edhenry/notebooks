{
 "cells": [
  {
   "cell_type": "markdown",
   "metadata": {},
   "source": [
    "# Eigendecomposition of matrices"
   ]
  },
  {
   "cell_type": "markdown",
   "metadata": {},
   "source": [
    "In this notebook we'll look at the eigendecomposition of matrices. We will be following the lessons taught in the Deep Learning book from Goodfellow et al.\n"
   ]
  },
  {
   "cell_type": "code",
   "execution_count": 15,
   "metadata": {
    "collapsed": true
   },
   "outputs": [],
   "source": [
    "import numpy as np\n",
    "import scipy as sci\n",
    "from scipy import linalg as la"
   ]
  },
  {
   "cell_type": "code",
   "execution_count": 81,
   "metadata": {
    "collapsed": false
   },
   "outputs": [],
   "source": [
    "mat_dim = 5\n",
    "A = np.mat(np.random.randint(low=1, high=10, size=(mat_dim, mat_dim)))"
   ]
  },
  {
   "cell_type": "code",
   "execution_count": 82,
   "metadata": {
    "collapsed": false
   },
   "outputs": [
    {
     "data": {
      "text/plain": [
       "matrix([[3, 6, 9, 4, 2],\n",
       "        [7, 8, 5, 1, 1],\n",
       "        [1, 9, 8, 1, 7],\n",
       "        [5, 8, 2, 3, 1],\n",
       "        [8, 8, 6, 6, 4]])"
      ]
     },
     "execution_count": 82,
     "metadata": {},
     "output_type": "execute_result"
    }
   ],
   "source": [
    "A"
   ]
  },
  {
   "cell_type": "code",
   "execution_count": 83,
   "metadata": {
    "collapsed": false
   },
   "outputs": [
    {
     "data": {
      "text/plain": [
       "array([[-0.09962676,  0.16221648, -0.04536319, -0.16681022,  0.1303474 ],\n",
       "       [ 0.01550388, -0.03100775,  0.03875969,  0.2248062 , -0.12403101],\n",
       "       [ 0.12919897,  0.0749354 , -0.01033592, -0.12661499, -0.03359173],\n",
       "       [ 0.09417169, -0.22538042, -0.06086707,  0.1432673 ,  0.0799598 ],\n",
       "       [-0.16681022, -0.03674993,  0.12001148, -0.14097043,  0.1678151 ]])"
      ]
     },
     "execution_count": 83,
     "metadata": {},
     "output_type": "execute_result"
    }
   ],
   "source": [
    "B = la.inv(A)\n",
    "B"
   ]
  },
  {
   "cell_type": "code",
   "execution_count": 85,
   "metadata": {
    "collapsed": false
   },
   "outputs": [
    {
     "data": {
      "text/plain": [
       "matrix([[  1.00000000e+00,  -1.11022302e-16,   0.00000000e+00,\n",
       "          -2.22044605e-16,  -1.66533454e-16],\n",
       "        [  1.66533454e-16,   1.00000000e+00,  -8.32667268e-17,\n",
       "          -2.22044605e-16,  -5.55111512e-17],\n",
       "        [  0.00000000e+00,   1.11022302e-16,   1.00000000e+00,\n",
       "           0.00000000e+00,  -2.22044605e-16],\n",
       "        [  1.66533454e-16,   0.00000000e+00,  -1.52655666e-16,\n",
       "           1.00000000e+00,  -2.77555756e-16],\n",
       "        [  2.22044605e-16,  -2.22044605e-16,  -1.66533454e-16,\n",
       "          -1.11022302e-16,   1.00000000e+00]])"
      ]
     },
     "execution_count": 85,
     "metadata": {},
     "output_type": "execute_result"
    }
   ],
   "source": [
    "I = A * B\n",
    "I"
   ]
  },
  {
   "cell_type": "code",
   "execution_count": 88,
   "metadata": {
    "collapsed": false
   },
   "outputs": [
    {
     "data": {
      "text/plain": [
       "0.9999999999999994"
      ]
     },
     "execution_count": 88,
     "metadata": {},
     "output_type": "execute_result"
    }
   ],
   "source": []
  },
  {
   "cell_type": "code",
   "execution_count": null,
   "metadata": {
    "collapsed": true
   },
   "outputs": [],
   "source": []
  }
 ],
 "metadata": {
  "kernelspec": {
   "display_name": "Python 2",
   "language": "python",
   "name": "python2"
  },
  "language_info": {
   "codemirror_mode": {
    "name": "ipython",
    "version": 2
   },
   "file_extension": ".py",
   "mimetype": "text/x-python",
   "name": "python",
   "nbconvert_exporter": "python",
   "pygments_lexer": "ipython2",
   "version": "2.7.6"
  }
 },
 "nbformat": 4,
 "nbformat_minor": 2
}
