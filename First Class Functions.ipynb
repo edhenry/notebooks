{
 "cells": [
  {
   "cell_type": "markdown",
   "metadata": {},
   "source": [
    "## First Class Functions\n",
    "\n",
    "Typically first class functions are defined as a programming entity that can be :\n",
    "\n",
    "* Created at runtime\n",
    "* Assigned to a variable or element in a data structure\n",
    "* Passed as an argument\n",
    "* Returned as the result of a function\n",
    "\n",
    "By this definition, looking at how Python treats all functions, all functions are first class within Python.\n",
    "\n",
    "Below we'll see examples of exactly how this looks.\n",
    "\n",
    "#### Treating a function like an object"
   ]
  },
  {
   "cell_type": "code",
   "execution_count": 3,
   "metadata": {
    "collapsed": false
   },
   "outputs": [
    {
     "data": {
      "text/plain": [
       "120"
      ]
     },
     "execution_count": 3,
     "metadata": {},
     "output_type": "execute_result"
    }
   ],
   "source": [
    "def factorial(n):\n",
    "    \"\"\"\n",
    "    Returns n! or n(factorial)\n",
    "    \n",
    "    e.g 5! = 5 * 4 * 3 * 2\n",
    "    \"\"\"\n",
    "    return 1 if n < 2 else n * factorial(n-1)\n",
    "\n",
    "factorial(5)"
   ]
  },
  {
   "cell_type": "markdown",
   "metadata": {},
   "source": [
    "#### First class analysis\n",
    "\n",
    "We can show the first class nature of this function object using a few examples.\n",
    "\n",
    "We can assign the function to a variable, which will invoke the function when calling that variable."
   ]
  },
  {
   "cell_type": "code",
   "execution_count": 7,
   "metadata": {
    "collapsed": false
   },
   "outputs": [
    {
     "data": {
      "text/plain": [
       "120"
      ]
     },
     "execution_count": 7,
     "metadata": {},
     "output_type": "execute_result"
    }
   ],
   "source": [
    "fact = factorial\n",
    "fact(5)"
   ]
  },
  {
   "cell_type": "markdown",
   "metadata": {},
   "source": [
    "We can also use the map function, and pass our function as the first argument, allowing that function to be evaluated against the second argument, which is an iterable. Allowing this function to be applied in a successive fashion to all elements of this iterable."
   ]
  },
  {
   "cell_type": "code",
   "execution_count": 8,
   "metadata": {
    "collapsed": false
   },
   "outputs": [
    {
     "data": {
      "text/plain": [
       "[1, 1, 2, 6, 24, 120, 720, 5040, 40320, 362880]"
      ]
     },
     "execution_count": 8,
     "metadata": {},
     "output_type": "execute_result"
    }
   ],
   "source": [
    "map(factorial, range(10))"
   ]
  },
  {
   "cell_type": "markdown",
   "metadata": {},
   "source": [
    "#### Higher-Order Functions\n",
    "\n",
    "A higher order function is a bit....meta. It can take, as an argument, a function and then returns a function as a result.\n",
    "\n",
    "The `map()` example used above is a great example of this.\n",
    "\n",
    "The built-in `sorted()` function is another great example of this, within Python. We can pass it an iterable, along with a `key` that can then be applied in succession to the items in the list. "
   ]
  },
  {
   "cell_type": "code",
   "execution_count": 20,
   "metadata": {
    "collapsed": false
   },
   "outputs": [
    {
     "name": "stdout",
     "output_type": "stream",
     "text": [
      "['celery', 'banana', 'cherry', 'carrots', 'rhubarb', 'eggplant', 'potatoes', 'tomatoes', 'blueberry', 'raspberry', 'strawberry']\n"
     ]
    }
   ],
   "source": [
    "food = ['eggplant', 'carrots', 'celery', \n",
    "        'potatoes', 'tomatoes', 'rhubarb',\n",
    "        'strawberry', 'blueberry', 'raspberry',\n",
    "        'banana', 'cherry']\n",
    "\n",
    "print(sorted(food, key=len))"
   ]
  },
  {
   "cell_type": "markdown",
   "metadata": {},
   "source": [
    "Any single argument function can be used in the key argument of the `sorted()` method.\n",
    "\n",
    "as a trivial example, we may want to use the reversed order of the characters to sort of words, as this will cause certain clustering of character strings together, such as -berry, and -toes."
   ]
  },
  {
   "cell_type": "code",
   "execution_count": 21,
   "metadata": {
    "collapsed": false
   },
   "outputs": [
    {
     "name": "stdout",
     "output_type": "stream",
     "text": [
      "['banana', 'rhubarb', 'tomatoes', 'potatoes', 'carrots', 'eggplant', 'celery', 'blueberry', 'raspberry', 'strawberry', 'cherry']\n"
     ]
    }
   ],
   "source": [
    "def reverse(word):\n",
    "    '''\n",
    "    Reverse the order of the letters in a given string\n",
    "    '''\n",
    "    return word[::-1]\n",
    "\n",
    "print(sorted(food, key=reverse))"
   ]
  },
  {
   "cell_type": "markdown",
   "metadata": {},
   "source": [
    "#### Replacements for map and filter\n",
    "\n",
    "Map, filter, and reduce are typically offered in functional languages as higher order functions. However, the introduction of list comprehensions and generator expressions have downplayed the value of the map and filter functions, as listcomp's and genexp's combine the job of `map` and `filter`."
   ]
  },
  {
   "cell_type": "code",
   "execution_count": 24,
   "metadata": {
    "collapsed": false
   },
   "outputs": [
    {
     "data": {
      "text/plain": [
       "[1, 1, 2, 6, 24, 120]"
      ]
     },
     "execution_count": 24,
     "metadata": {},
     "output_type": "execute_result"
    }
   ],
   "source": [
    "# Build a list of factorials from 0! to 5!\n",
    "list(map(fact, range(6)))"
   ]
  },
  {
   "cell_type": "code",
   "execution_count": 25,
   "metadata": {
    "collapsed": false
   },
   "outputs": [
    {
     "data": {
      "text/plain": [
       "[1, 1, 2, 6, 24, 120]"
      ]
     },
     "execution_count": 25,
     "metadata": {},
     "output_type": "execute_result"
    }
   ],
   "source": [
    "# Build a list of factorials from 0! to 5!\n",
    "# but using list comprehension\n",
    "[fact(n) for n in range(6)]"
   ]
  },
  {
   "cell_type": "code",
   "execution_count": 26,
   "metadata": {
    "collapsed": false
   },
   "outputs": [
    {
     "data": {
      "text/plain": [
       "[1, 6, 120]"
      ]
     },
     "execution_count": 26,
     "metadata": {},
     "output_type": "execute_result"
    }
   ],
   "source": [
    "# Build a list of factorials of odd numbers up to 5!, using `map` and `filter`\n",
    "list(map(factorial, filter(lambda n: n % 2, range(6))))"
   ]
  },
  {
   "cell_type": "markdown",
   "metadata": {},
   "source": [
    "We can see above that with the `map` and `filter` functions, we needed to use a `lambda` function. \n",
    "\n",
    "Using a list comprehension can remove this requirement, and concatenate the operations."
   ]
  },
  {
   "cell_type": "code",
   "execution_count": 27,
   "metadata": {
    "collapsed": false
   },
   "outputs": [
    {
     "data": {
      "text/plain": [
       "[1, 6, 120]"
      ]
     },
     "execution_count": 27,
     "metadata": {},
     "output_type": "execute_result"
    }
   ],
   "source": [
    "# Build a list of factorials of odd numbers up to 5!, using list comprehension\n",
    "[factorial(n) for n in range(6) if n % 2]"
   ]
  },
  {
   "cell_type": "markdown",
   "metadata": {},
   "source": [
    "#### Anonymous Functions\n",
    "\n",
    "The example above, where we've utilized `map` and `filter` combined with a `lambda` function leads us into our next example.\n",
    "\n",
    "The `lambda` keyword created an anonymous function within a Python expression. However the syntax limits the `lambda` to be pure expressions. This means that the body of a `lambda` function can't use other Python statements such as `while` or `try`, etc.\n",
    "\n",
    "These are typically limited in their use because of the lack of the ability to use more complex control structures within the `lambda` functions. This can lead to unreadable or unworkable results.\n",
    "\n",
    "However, they can still prove useful in certain contexts, such as list arguments."
   ]
  },
  {
   "cell_type": "code",
   "execution_count": 31,
   "metadata": {
    "collapsed": false
   },
   "outputs": [
    {
     "name": "stdout",
     "output_type": "stream",
     "text": [
      "['banana', 'rhubarb', 'tomatoes', 'potatoes', 'carrots', 'eggplant', 'celery', 'blueberry', 'raspberry', 'strawberry', 'cherry']\n"
     ]
    }
   ],
   "source": [
    "food = ['eggplant', 'carrots', 'celery', \n",
    "        'potatoes', 'tomatoes', 'rhubarb',\n",
    "        'strawberry', 'blueberry', 'raspberry',\n",
    "        'banana', 'cherry']\n",
    "\n",
    "print(sorted(food, key=lambda word: word[::-1]))"
   ]
  },
  {
   "cell_type": "markdown",
   "metadata": {},
   "source": [
    "#### References\n",
    "\n",
    "* Fluent Python, Ramalho [Purchase Link](http://shop.oreilly.com/product/0636920032519.do)"
   ]
  },
  {
   "cell_type": "code",
   "execution_count": null,
   "metadata": {
    "collapsed": true
   },
   "outputs": [],
   "source": []
  }
 ],
 "metadata": {
  "kernelspec": {
   "display_name": "Python 2",
   "language": "python",
   "name": "python2"
  },
  "language_info": {
   "codemirror_mode": {
    "name": "ipython",
    "version": 2
   },
   "file_extension": ".py",
   "mimetype": "text/x-python",
   "name": "python",
   "nbconvert_exporter": "python",
   "pygments_lexer": "ipython2",
   "version": "2.7.6"
  }
 },
 "nbformat": 4,
 "nbformat_minor": 0
}
