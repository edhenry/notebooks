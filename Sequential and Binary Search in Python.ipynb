{
 "cells": [
  {
   "cell_type": "markdown",
   "metadata": {},
   "source": [
    "This notebook will include examples of searching and sorting algorithms implemented in python. It is both for my own learning, and for anyone else who would like to use this notebook for anything they'd like."
   ]
  },
  {
   "cell_type": "markdown",
   "metadata": {},
   "source": [
    "## Searching\n",
    "\n",
    "Finding an item in a collection of items is a pretty typical search problem. Depending on the implementation, a search will tend to return a `True` or `False` boolean answer to the question of \"is this item contained within this collection of items?\".\n",
    "\n",
    "An example of this can be seen below, using Pythons `in` operator."
   ]
  },
  {
   "cell_type": "code",
   "execution_count": 1,
   "metadata": {
    "collapsed": false
   },
   "outputs": [
    {
     "data": {
      "text/plain": [
       "False"
      ]
     },
     "execution_count": 1,
     "metadata": {},
     "output_type": "execute_result"
    }
   ],
   "source": [
    "# Finding a single integer in an array of integers using Python's `in` \n",
    "# operator\n",
    "\n",
    "15 in [3,5,6,9,12,11]"
   ]
  },
  {
   "cell_type": "markdown",
   "metadata": {},
   "source": [
    "We can see this returns a boolean answer of `False`, indicating that the integer isn't present in the array.\n",
    "\n",
    "Below is another example where the answer is `True`."
   ]
  },
  {
   "cell_type": "code",
   "execution_count": 2,
   "metadata": {
    "collapsed": false
   },
   "outputs": [
    {
     "data": {
      "text/plain": [
       "True"
      ]
     },
     "execution_count": 2,
     "metadata": {},
     "output_type": "execute_result"
    }
   ],
   "source": [
    "# Finding a single integer in an array of integers using Python's `in` \n",
    "# operator\n",
    "\n",
    "11 in [3,5,6,9,12,11]"
   ]
  },
  {
   "cell_type": "markdown",
   "metadata": {},
   "source": [
    "Python provides useful abstractions like this for a lot of search and sort functionality, but it's important to understand what's going on 'under the hood' of these functions.\n",
    "\n",
    "## Sequential Search\n",
    "\n",
    "### Unordered array\n",
    "\n",
    "Datum, in arrays such as the ones used in the examples above, are typically stores in a collection such as a list. These datum within these lists have linear, or sequential relationship. They are each stores in a position within the array, relative to the other datum.\n",
    "\n",
    "When searching for a specific datum within the array, we are able to seqeuntially evaluate each item in the list, or array, to see if it matches the item we're looking for.\n",
    "\n",
    "Using `sequential_search`, we simply move from item to item in the list, evaluating whether our search expression is `True`, or `False`."
   ]
  },
  {
   "cell_type": "code",
   "execution_count": 6,
   "metadata": {
    "collapsed": false
   },
   "outputs": [
    {
     "name": "stdout",
     "output_type": "stream",
     "text": [
      "False\n",
      "True\n"
     ]
    }
   ],
   "source": [
    "# Search sequentially through a list, incrementing the position counter\n",
    "# if is_present is not True, otherwise set is_present to True and return\n",
    "\n",
    "def sequential_search(li, item):\n",
    "    position = 0\n",
    "    is_present = False\n",
    "    \n",
    "    while position < len(li) and not is_present:\n",
    "        if li[position] == item:\n",
    "            is_present = True\n",
    "        else:\n",
    "            position = position + 1\n",
    "    \n",
    "    return is_present\n",
    "\n",
    "test_array = [1,31,5,18,7,10,25]\n",
    "print(sequential_search(test_array, 2))\n",
    "print(sequential_search(test_array, 25))"
   ]
  },
  {
   "cell_type": "markdown",
   "metadata": {},
   "source": [
    "The example above uses an example of uses an unordered list. Because this list is unordered, we will need to evaluate every item in the list to understand if it is the item that we're searching for. Because this is the case, the computational complexity of our `sequential_search` function is $O(n)$.\n",
    "\n",
    "Here is a table summarizing the cases :\n",
    "\n",
    "| Case               | Best Case | Worst Case | Average Case |\n",
    "|--------------------|-----------|------------|--------------|\n",
    "| item is present    | 1         | $n$        | $\\frac{n}{2}$|\n",
    "| item isn't present | $n$       | $n$        | $n$          |\n",
    "\n",
    "This can be seen as such :\n",
    "\n",
    "For every $n$ and every input size of $n$, the following is true:\n",
    "\n",
    "* The while loop is executed at most $n$ times\n",
    "    * `position` is incremented on each iteration, so `position` > $n$ after $n$ iterations.\n",
    "* Each iteration takes $c$ steps for some constant $c$\n",
    "* $d$ steps are taken outside of the loop, for some constant $d$\n",
    "\n",
    "Therefore for *all* inputs of size $n$, the time needed for the entire search is **at most** $(cn+d) = O(n)$.\n",
    "\n",
    "At worst, the item $x$ we're searching for is the _last_ item in the entire list of items. This can be seen as \n",
    "\n",
    "$A[n] = x$ and $A[i] \\ne x$ for all $i$ s.t. $1 \\le i \\lt n$\n",
    "\n",
    "### Ordered array\n",
    "\n",
    "If we assume that the list, or array, that we're searching over is ordered, say from low to high, the chance of the item we're looking for being in any one of the $n$ positions is still the same. However, if the item is _not_ present we have a slight advantage in that the item that we're looking for may never be present past another item of greater value.\n",
    "\n",
    "For example, if we're looking for the number 25, and through the process of searching through the array, we happen upon the number 27, we know that no other integers past number 27 will have the value that we're looking for."
   ]
  },
  {
   "cell_type": "code",
   "execution_count": 9,
   "metadata": {
    "collapsed": false
   },
   "outputs": [
    {
     "name": "stdout",
     "output_type": "stream",
     "text": [
      "False\n"
     ]
    }
   ],
   "source": [
    "def ordered_sequential_search(li, item):\n",
    "    position = 0\n",
    "    found = False\n",
    "    stop = False\n",
    "    \n",
    "    while position < len(li) and not found and not stop:\n",
    "        if li[position] == item:\n",
    "            found == True\n",
    "        else:\n",
    "            if li[position] > item:\n",
    "                stop = True\n",
    "            else:\n",
    "                position = (position + 1)\n",
    "    \n",
    "    return found\n",
    "\n",
    "test_li = [0,2,3,4,5,6,7,12,15,18,23,27,45]\n",
    "print(ordered_sequential_search(test_li, 25))"
   ]
  },
  {
   "cell_type": "markdown",
   "metadata": {},
   "source": [
    "We can see that we are able to terminate the execution of the search because we've found a number greater than the number we're searching for with the assumption that the list being passed into the function is ordered, we know we can terminate the computation. \n",
    "\n",
    "Modifying the table above, we can see that with the item _not_ present in our array, we save some computational cycles in the negative case.\n",
    "\n",
    "| Case               | Best Case | Worst Case | Average Case |\n",
    "|--------------------|-----------|------------|--------------|\n",
    "| item is present    | 1         | $n$        | $\\frac{n}{2}$|\n",
    "| item isn't present | $n$       | $n$        | $\\frac{n}{2}$|\n",
    "\n",
    "This can prove really useful if we can somehow, somewhere else in our data structure definitions, that we can guarantee ordering of our arrays. This example is left for future work as it's more abstract to just the search examples we're displaying here."
   ]
  },
  {
   "cell_type": "markdown",
   "metadata": {},
   "source": [
    "## Binary Search\n",
    "\n",
    "With sequential search we start by evaluating the first entry of array for whether or not it matches the the item that we're looking for, and if it does not we proceed through the entire collection, trying to find a match. There are at most, at any time, $n-1$ more items to look at if the item we're currently evaluating is not the one we're looking for.\n",
    "\n",
    "Binary search takes a bit of a different approach to the problem. Instead of searching through the collection, sequentially, starting with the first item in the list or array, the process starts at the middle. If the middle item of the list is _not_ the item that we're looking for, and is larger than the middle value, we can drop the entire bottom half of the list and save ourselves that much computation time."
   ]
  },
  {
   "cell_type": "code",
   "execution_count": 37,
   "metadata": {
    "collapsed": false
   },
   "outputs": [
    {
     "name": "stdout",
     "output_type": "stream",
     "text": [
      "True\n"
     ]
    }
   ],
   "source": [
    "# Binary search example\n",
    "def binary_search(li, item):\n",
    "    first = 0\n",
    "    last = (len(li) - 1)\n",
    "    found = False\n",
    "    \n",
    "    while first <= last and not found:\n",
    "        midpoint = ((first + last)//2)\n",
    "        if li[midpoint] == item:\n",
    "            found = True\n",
    "        else:\n",
    "            if item < li[midpoint]:\n",
    "                last = (midpoint - 1)\n",
    "            else:\n",
    "                first = (midpoint + 1)\n",
    "    return found\n",
    "\n",
    "test_li = [0,2,3,4,5,8,10,15,17,21,25,32,42,45]\n",
    "print(binary_search(test_li, 45))"
   ]
  },
  {
   "cell_type": "markdown",
   "metadata": {},
   "source": [
    "Using our handy table again, we can analyze the complexity of the binary search algorithm.\n",
    "\n",
    "| Comparisons | Approximate Number of Items Left|\n",
    "|-------------|---------------------------------|\n",
    "| 1           | $\\frac{n}{2}$                   |\n",
    "| 2           | $\\frac{n}{4}$                   |\n",
    "| 3           | $\\frac{n}{8}$                   |\n",
    "| ...                                           |\n",
    "|$i$          | $\\frac{n}{2^{i}}$               |\n",
    "\n",
    "The number of comparisons necessary to get to this point is $i$ where $\\frac{n}{2^{i}} = 1$. Solving for $i$ is $i = log n$. Therefore, binary search has a computational complexity of $O(log n)$."
   ]
  },
  {
   "cell_type": "markdown",
   "metadata": {},
   "source": [
    "#### References\n",
    "\n",
    "[1] http://interactivepython.org/courselib/static/pythonds/SortSearch/TheSequentialSearch.html\n",
    "\n",
    "[2] http://www.cs.toronto.edu/~tfowler/csc263/TutorialNotes1.txt"
   ]
  },
  {
   "cell_type": "code",
   "execution_count": null,
   "metadata": {
    "collapsed": true
   },
   "outputs": [],
   "source": []
  }
 ],
 "metadata": {
  "kernelspec": {
   "display_name": "Python 2",
   "language": "python",
   "name": "python2"
  },
  "language_info": {
   "codemirror_mode": {
    "name": "ipython",
    "version": 2
   },
   "file_extension": ".py",
   "mimetype": "text/x-python",
   "name": "python",
   "nbconvert_exporter": "python",
   "pygments_lexer": "ipython2",
   "version": "2.7.6"
  }
 },
 "nbformat": 4,
 "nbformat_minor": 0
}
