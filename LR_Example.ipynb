{
 "cells": [
  {
   "cell_type": "markdown",
   "metadata": {},
   "source": [
    "### Polynomial Curve Fitting\n",
    "\n",
    "This is an interactive implementation of example 1.1 from Christopher Bishop's highly recommended book [Pattern Recognition and Machine Learning](https://www.amazon.com/Pattern-Recognition-Learning-Information-Statistics/dp/0387310738).\n",
    "\n",
    "In this example we generate a random dataset according to a normal distribution and perform a least squares linear regression fit to the randomly generated data using a user definable degree of polynomial. The hope in creating this notebook was to help bring a bit of intuition for individuals interested in learning more about a least squares linear regression model, much in the way the book does, by bringing some interaction forward for users to be able to tweak parameters of the model.\n",
    "\n",
    "This should help provide some intuition on understanding what something like \"over-fitting\" may look like on a simple linear regression problem."
   ]
  },
  {
   "cell_type": "code",
   "execution_count": 35,
   "metadata": {
    "collapsed": false,
    "deletable": true,
    "editable": true
   },
   "outputs": [],
   "source": [
    "from __future__ import print_function\n",
    "from ipywidgets import interact, interactive, fixed, interact_manual\n",
    "from ipywidgets import widget\n",
    "from IPython.display import display\n",
    "\n",
    "from math import pi, sin\n",
    "import numpy as np\n",
    "from matplotlib import pyplot as plt\n",
    "from sklearn.linear_model import Ridge\n",
    "\n",
    "%matplotlib inline"
   ]
  },
  {
   "cell_type": "code",
   "execution_count": 15,
   "metadata": {
    "collapsed": false,
    "deletable": true,
    "editable": true
   },
   "outputs": [],
   "source": [
    "def target(x):\n",
    "    '''\n",
    "    Function to generate target variables\n",
    "    \n",
    "    '''\n",
    "    return sin(2 * pi * x) + np.random.normal(scale=0.3)\n",
    "\n",
    "def example_data_generating_dist(size):\n",
    "    '''\n",
    "    Function to generate example data\n",
    "    \n",
    "    size = size of data set to generate\n",
    "    '''\n",
    "    data = []\n",
    "\n",
    "    for i in range(size):\n",
    "        x = np.random.uniform()\n",
    "        y = target(x)\n",
    "        data.append([x,y])\n",
    "    arr = np.array(data)\n",
    "    x = np.array(arr[:,0])\n",
    "    y = np.array(arr[:,1])\n",
    "    return x, y\n",
    "\n",
    "def polyfit(x, y, degree):\n",
    "    '''\n",
    "    Fit a polynomaial to some data\n",
    "    '''\n",
    "    _coef = np.polyfit(x,y,degree)\n",
    "    _poly = np.poly1d(_coef)\n",
    "    _ys = _poly(y)\n",
    "    \n",
    "    return _poly\n",
    "\n",
    "def graph_polyfit(degree, size):\n",
    "    \n",
    "    x, y = example_data_generating_dist(size)\n",
    "    \n",
    "    model = polyfit(x, y, degree)\n",
    "    xp = np.linspace(-1, 1, 50)\n",
    "\n",
    "    plt.ylim(y.min()-.2, y.max()+.2)\n",
    "    plt.xlim(x.min()-.2, x.max()+.2)\n",
    "    \n",
    "    plt.plot(x, y, '.', xp, model(xp), '--')\n",
    "\n",
    "    plt.show()\n",
    "    return model"
   ]
  },
  {
   "cell_type": "markdown",
   "metadata": {},
   "source": [
    "### Underfit\n",
    "\n",
    "Simple example of an underfit for our model. We can see that a simple 1st, or 2nd degree polynomial doesn't sufficiently capture the underlying function that is generating our data. In this case $sin(2\\pi x)$."
   ]
  },
  {
   "cell_type": "code",
   "execution_count": 28,
   "metadata": {
    "collapsed": false
   },
   "outputs": [
    {
     "data": {
      "image/png": "[encoded data removed]",
      "text/plain": [
       "<matplotlib.figure.Figure at 0x7fe73a8c9b10>"
      ]
     },
     "metadata": {},
     "output_type": "display_data"
    },
    {
     "data": {
      "text/plain": [
       "poly1d([-2.28640336,  1.13093821])"
      ]
     },
     "metadata": {},
     "output_type": "display_data"
    }
   ],
   "source": [
    "graph_underfit = interactive(graph_polyfit, degree=1, size=10)\n",
    "graph_underfit"
   ]
  },
  {
   "cell_type": "markdown",
   "metadata": {},
   "source": [
    "### Overfit\n",
    "\n",
    "Just as we show in the example above, we can also generate another example of what would be considered an overfitting of our $sin(2\\pi x)$ function.\n",
    "\n",
    "As you can see, the 9th degree polynomial oscillates wildly between the different datapoints in an effort to find a best fit that ends up being too \"close\" to the data that the model sees."
   ]
  },
  {
   "cell_type": "code",
   "execution_count": 29,
   "metadata": {
    "collapsed": false,
    "deletable": true,
    "editable": true
   },
   "outputs": [
    {
     "data": {
      "image/png": "[encoded data removed]",
      "text/plain": [
       "<matplotlib.figure.Figure at 0x7fe73a982250>"
      ]
     },
     "metadata": {},
     "output_type": "display_data"
    },
    {
     "data": {
      "text/plain": [
       "poly1d([  7.68084628e+05,  -3.23157962e+06,   5.78666581e+06,\n",
       "        -5.76302737e+06,   3.50099986e+06,  -1.33829729e+06,\n",
       "         3.20067028e+05,  -4.59084228e+04,   3.56423862e+03,\n",
       "        -1.13373029e+02])"
      ]
     },
     "metadata": {},
     "output_type": "display_data"
    }
   ],
   "source": [
    "graph_overfit = interactive(graph_polyfit, degree=9, size=10)\n",
    "graph_overfit"
   ]
  },
  {
   "cell_type": "markdown",
   "metadata": {},
   "source": [
    "### Just right\n",
    "\n",
    "This is an example of a good, overall, fit to the data. We can see that the function is smooth and does not oscillate wildly between the datapoints."
   ]
  },
  {
   "cell_type": "code",
   "execution_count": 31,
   "metadata": {
    "collapsed": false
   },
   "outputs": [
    {
     "data": {
      "image/png": "[encoded data removed]",
      "text/plain": [
       "<matplotlib.figure.Figure at 0x7fe73a972550>"
      ]
     },
     "metadata": {},
     "output_type": "display_data"
    },
    {
     "data": {
      "text/plain": [
       "poly1d([ 32.7306674 , -49.39380151,  17.94340625,  -0.66540104])"
      ]
     },
     "metadata": {},
     "output_type": "display_data"
    }
   ],
   "source": [
    "graph_just_right = interactive(graph_polyfit, degree=3, size=10)\n",
    "graph_just_right"
   ]
  },
  {
   "cell_type": "markdown",
   "metadata": {},
   "source": [
    "### Regularization -- More Data\n",
    "\n",
    "There are multiple ways that we can deal with overfitting. The easiest way is, if you can, just get more data from the system it is that you're trying to model. This will help the model to generalize to your dataset using more examples.\n",
    "\n",
    "Remember that when dealing with a least squares fit, you're working to minimize the _sum_ of the squares of the errors \n",
    "between between our predictions $y(x_n, w) \\ \\forall \\ x \\in X$ and their corresponding target values $t_n$. \n",
    "\n",
    "$$ E(w) = \\frac{1}{2}\\{y(x_n, w) - t_n\\}^2$$\n",
    "\n",
    "Intuitively you can imagine that this minimization over a larger summation of datapoints, allows more and more data to \"push\" and \"pull\" on the function approximating the data, creating a smoothing of the function in the process."
   ]
  },
  {
   "cell_type": "code",
   "execution_count": 33,
   "metadata": {
    "collapsed": false
   },
   "outputs": [
    {
     "data": {
      "image/png": "[encoded data removed]",
      "text/plain": [
       "<matplotlib.figure.Figure at 0x7fe73a98e990>"
      ]
     },
     "metadata": {},
     "output_type": "display_data"
    },
    {
     "data": {
      "text/plain": [
       "poly1d([  1.67315598e+03,  -7.20479112e+03,   1.36622684e+04,\n",
       "        -1.52065377e+04,   1.09437919e+04,  -5.10453997e+03,\n",
       "         1.45573630e+03,  -2.41826531e+02,   2.34946290e+01,\n",
       "        -3.99902288e-01])"
      ]
     },
     "metadata": {},
     "output_type": "display_data"
    }
   ],
   "source": [
    "graph_reg = interactive(graph_polyfit, degree=9, size=100)\n",
    "graph_reg"
   ]
  },
  {
   "cell_type": "markdown",
   "metadata": {},
   "source": [
    "You can see above, just be sampling 90 more data points from our mock function, the 9th degree polynomial is already starting to smooth out a bunch. If you grab the `size` slider and move it to the right, generating more sample data, you'll see that the recomputed polynomial that is modeling the data smooths even more. Giving us this regularization affect."
   ]
  },
  {
   "cell_type": "markdown",
   "metadata": {},
   "source": [
    "### Regularization - when it's hard to get more data\n",
    "\n",
    "If you can't get your hands on more data from the system that has produced the data, then you may have to move into the realm of adding a penalty to your cost, or error, function $E(w)$.\n",
    "\n",
    "A common penalization to add to our error function is the sum of the squares of all parameters, or coefficients, of the model.\n",
    "\n",
    "$$ E(w) = \\frac{1}{2}\\{y(x_n, w) - t_n\\}^2 + \\frac{\\lambda}{2}\\|w\\|^2$$\n",
    "\n",
    "where $\\|w\\|^2 = w^Tw = w_0^2 + w_1^2 + w_3^2 ... w_M^2$. The coefficient $\\lambda$ is what governs the relative importants of the regularization effect on the model."
   ]
  },
  {
   "cell_type": "code",
   "execution_count": 62,
   "metadata": {
    "collapsed": false
   },
   "outputs": [],
   "source": [
    "# generate some random data and target values\n",
    "rr_X, rr_y = example_data_generating_dist(100)"
   ]
  },
  {
   "cell_type": "code",
   "execution_count": 60,
   "metadata": {
    "collapsed": false
   },
   "outputs": [
    {
     "data": {
      "text/plain": [
       "array([-0.29085309,  0.99255478,  0.65144592,  0.72407791,  0.43446178,\n",
       "       -0.92695187, -0.65801194, -0.54308427, -1.14192648,  0.71669174,\n",
       "       -0.21520924, -0.03194886,  0.13933688,  0.37076975,  1.57069626,\n",
       "       -0.8634242 ,  0.33453173, -1.54635042, -0.48494725, -0.10221201,\n",
       "        0.12398545,  1.05191016, -0.10675557,  1.01580794,  0.39021641,\n",
       "        0.70410217,  0.74478408,  0.56153662, -0.84234846,  0.72641871,\n",
       "        1.04426655,  0.46088555,  0.36306463,  0.84343778, -0.08501795,\n",
       "       -0.64883542, -0.36723085, -0.45465546, -0.58274869, -0.34060161,\n",
       "       -1.00242698,  0.51998301,  0.7827885 ,  0.87097285,  0.20201265,\n",
       "       -0.31370883, -0.59052355,  0.23194184, -0.91538903,  0.09491556,\n",
       "        0.42723614, -0.74811599,  0.3491822 ,  0.8308746 ,  1.42037689,\n",
       "       -0.18502007, -0.17522596,  0.46556108,  0.87965163, -0.27290086,\n",
       "        0.94957174,  1.25346067, -0.77642278,  0.69714418, -0.43070493,\n",
       "       -1.05007236, -0.11134356, -0.86791723, -0.71026929,  0.48589327,\n",
       "       -0.15472188,  0.5309369 ,  0.70698865, -0.85908003,  0.40256661,\n",
       "        1.00884023, -0.87841461,  0.94836292,  0.13424483,  1.4620139 ,\n",
       "        0.66540541,  0.363667  , -0.53725293,  0.97759962,  0.68921485,\n",
       "       -0.54742017,  0.43189463, -0.81129939, -0.08694743,  0.00491531,\n",
       "        0.35524574, -0.2526889 , -0.52846626,  1.07264114, -0.71023647,\n",
       "       -0.13351744,  0.68184272, -0.33988629, -0.46374556,  1.21412523])"
      ]
     },
     "execution_count": 60,
     "metadata": {},
     "output_type": "execute_result"
    }
   ],
   "source": [
    "rr_y"
   ]
  },
  {
   "cell_type": "code",
   "execution_count": 79,
   "metadata": {
    "collapsed": false
   },
   "outputs": [
    {
     "name": "stderr",
     "output_type": "stream",
     "text": [
      "/usr/lib/python2.7/dist-packages/scipy/sparse/sputils.py:141: VisibleDeprecationWarning: `rank` is deprecated; use the `ndim` attribute or function instead. To find the rank of a matrix see `numpy.linalg.matrix_rank`.\n",
      "  if np.rank(M) == 0 and np.rank(N) == 0:\n"
     ]
    },
    {
     "data": {
      "text/plain": [
       "Ridge(alpha=1.0, copy_X=True, fit_intercept=True, max_iter=None,\n",
       "   normalize=False, solver='lsqr', tol=0.001)"
      ]
     },
     "execution_count": 79,
     "metadata": {},
     "output_type": "execute_result"
    }
   ],
   "source": [
    "clf = Ridge(alpha=1.0, solver='lsqr')\n",
    "clf.fit(rr_X[:,np.newaxis], rr_y)"
   ]
  },
  {
   "cell_type": "code",
   "execution_count": 80,
   "metadata": {
    "collapsed": false
   },
   "outputs": [
    {
     "data": {
      "text/plain": [
       "<matplotlib.collections.PathCollection at 0x7fe7302c59d0>"
      ]
     },
     "execution_count": 80,
     "metadata": {},
     "output_type": "execute_result"
    },
    {
     "data": {
      "image/png": "[encoded data removed]",
      "text/plain": [
       "<matplotlib.figure.Figure at 0x7fe73040ed10>"
      ]
     },
     "metadata": {},
     "output_type": "display_data"
    }
   ],
   "source": [
    "plt.scatter(rr_X, rr_y)"
   ]
  },
  {
   "cell_type": "code",
   "execution_count": 87,
   "metadata": {
    "collapsed": false
   },
   "outputs": [
    {
     "data": {
      "image/png": "[encoded data removed]",
      "text/plain": [
       "<matplotlib.figure.Figure at 0x7fe73023d4d0>"
      ]
     },
     "metadata": {},
     "output_type": "display_data"
    }
   ],
   "source": [
    "colors = ['teal', 'yellowgreen', 'gold']\n",
    "lw = 2\n",
    "for count, degree in enumerate([2]):\n",
    "    model = Ridge()\n",
    "    model.fit(rr_X[:,np.newaxis], rr_y)\n",
    "    y_plot = model.predict(rr_X[:,np.newaxis])\n",
    "    plt.plot(rr_X, y_plot, color=colors[count], linewidth=lw,\n",
    "             label=\"degree %d\" % degree)"
   ]
  },
  {
   "cell_type": "code",
   "execution_count": null,
   "metadata": {
    "collapsed": true
   },
   "outputs": [],
   "source": []
  }
 ],
 "metadata": {
  "kernelspec": {
   "display_name": "Python 2",
   "language": "python",
   "name": "python2"
  },
  "language_info": {
   "codemirror_mode": {
    "name": "ipython",
    "version": 2
   },
   "file_extension": ".py",
   "mimetype": "text/x-python",
   "name": "python",
   "nbconvert_exporter": "python",
   "pygments_lexer": "ipython2",
   "version": "2.7.6"
  },
  "widgets": {
   "state": {
    "47351a743d254fae808dd72823594b82": {
     "views": [
      {
       "cell_index": 6
      }
     ]
    },
    "5ac02f06cdc24b22af99c75cb1642bc9": {
     "views": [
      {
       "cell_index": 10
      }
     ]
    },
    "eb37fc19cc22455ba62dd9d60c2aa77b": {
     "views": [
      {
       "cell_index": 8
      }
     ]
    },
    "ee492234e10641028e5370f59e69e0ab": {
     "views": [
      {
       "cell_index": 4
      }
     ]
    }
   },
   "version": "1.2.0"
  }
 },
 "nbformat": 4,
 "nbformat_minor": 2
}
