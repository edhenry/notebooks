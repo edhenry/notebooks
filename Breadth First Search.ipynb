{
 "cells": [
  {
   "cell_type": "markdown",
   "metadata": {},
   "source": [
    "#### Breadth First Search\n",
    "\n",
    "In this notebook / blog post we will explore breadth first search, which is an algorithm for searching a given graph for the lowest cost path to a goal state $G$.\n",
    "\n",
    "The _cost_ is intentionally abstract as it can be defined as whatever you'd like it to be, whether it be the least amount of vertices traversed to get to $G$ or whether it be the lowest sum of the weights of edges between a given state and the goal state, $G$.\n",
    "\n",
    "Some quick notational and fundamental review of the definition of a graph is below :\n",
    "\n",
    "* Vertex\n",
    "    * End state, also called a node, of a given path through a graph $G$\n",
    "    * Can also house additional information known as a _payload_\n",
    "\n",
    "* Edge\n",
    "    * Also called an arc, the element that connects two vertices within a graph\n",
    "    * Can be either one way or two way; one way = **directed graph** or **digraph**\n",
    "    \n",
    "* Weight\n",
    "    * A value assigned to an edge to denote \"cost\" of traversing that edge between two vertices\n",
    "\n",
    "With these definitions we can formally define as a graph, $G$ where $G = (V,E)$.\n",
    "\n",
    "$V$ is a set of vertices and $E$ is a set of edges, respectively.\n",
    "\n",
    "Each edge is a tuple $(v,w)$ where $w,v \\in V$, adding $w$ as a third component to represent the weight of that vertex.\n",
    "\n",
    "* Path\n",
    "    * A sequence of edges that connect two vertices.\n",
    "    * Formally defined as $\\{w_{1},w_{2},...,w_{n}\\}$ such that $(w_{i},w_{i+1}) \\in E \\ \\ \\ \\forall 1 \\le i \\le n-1$\n",
    "    \n",
    "There are great libraries that provide Graph ADT's, but in this example we'll implement a Graph class ourselves. It will be useful in understanding a graph and how we can use it.\n",
    "\n",
    "We'll define two classes to support this effort, a `Vertex` class, which will represent a given vertex being added to the graph, and a `Graph` class which holds the master list of vertices."
   ]
  },
  {
   "cell_type": "code",
   "execution_count": 1,
   "metadata": {
    "collapsed": true
   },
   "outputs": [],
   "source": [
    "class Vertex:\n",
    "    def __init__(self, key):\n",
    "        # unique ID for vertex\n",
    "        self.id = key\n",
    "        # dict of connected nodes\n",
    "        self.connected_to = {}\n",
    "    \n",
    "    def add_neighbor(self, neighbor, weight=0):\n",
    "        # Add an entry to the connected_to dict with a given\n",
    "        # weight \n",
    "        self.connected_to[neighbor] = weight\n",
    "        \n",
    "    def __str__(self):\n",
    "        # override __str__ for printing\n",
    "        return(str(self.id) + ' connected to: ' + str([x.id for x in self.connected_to]))\n",
    "    \n",
    "    def get_connections(self):\n",
    "        # return keys from connected_to dict\n",
    "        return self.connected_to.keys()\n",
    "    \n",
    "    def get_id(self):\n",
    "        # return vertex id's\n",
    "        return self.id\n",
    "    \n",
    "    def get_weight(self):\n",
    "        # return weights of edges connected to vertex\n",
    "        return self.connected_to[neighbor]"
   ]
  },
  {
   "cell_type": "code",
   "execution_count": 2,
   "metadata": {
    "collapsed": true
   },
   "outputs": [],
   "source": [
    "class Graph:\n",
    "    def __init__(self):\n",
    "        # dictionary of vertices\n",
    "        self.vertices_list = {}\n",
    "        # vertex count\n",
    "        self.num_vertices = 0\n",
    "        \n",
    "    def add_vertex(self, key):\n",
    "        # increment counter when adding vertex\n",
    "        self.num_vertices = self.num_vertices + 1\n",
    "        new_vertex = Vertex(key)\n",
    "        self.vertices_list[key] = new_vertex\n",
    "        return new_vertex\n",
    "    \n",
    "    def get_vertex(self, n):\n",
    "        # check if vertex exists, return if True\n",
    "        if n in self.vertices_list:\n",
    "            return self.vertices_list[n]\n",
    "        else:\n",
    "            return None\n",
    "        \n",
    "    def __contains__(self, n):\n",
    "        # override __contains__ to list all vertices in Graph object\n",
    "        return n in self.vertices_list\n",
    "    \n",
    "    def add_edge(self, s, f, cost=0):\n",
    "        # add edge to graph; s = start node; e = end node\n",
    "        if s not in self.vertices_list:\n",
    "            nv = self.add_vertex(s)\n",
    "        if f not in self.vertices_list:\n",
    "            nv = self.add_vertex(f)\n",
    "        self.vertices_list[s].add_neighbor(self.vertices_list[f], cost)\n",
    "        \n",
    "    def get_vertices(self):\n",
    "        # return keys of vertices in Graph\n",
    "        return self.vertices_list.keys()\n",
    "    \n",
    "    def __iter__(self):\n",
    "        # override __iter__ to return iterable of vertices\n",
    "        return iter(self.vertices_list.values())\n",
    "    "
   ]
  },
  {
   "cell_type": "code",
   "execution_count": 3,
   "metadata": {
    "collapsed": false
   },
   "outputs": [],
   "source": [
    "node_names = [\"A\", \"B\", \"C\",\n",
    "              \"D\", \"E\", \"F\",\n",
    "              \"G\"]\n",
    "# Instantiate graph object and add vertices\n",
    "g = Graph()\n",
    "for i in node_names:\n",
    "    g.add_vertex(i)"
   ]
  },
  {
   "cell_type": "code",
   "execution_count": 4,
   "metadata": {
    "collapsed": false
   },
   "outputs": [
    {
     "name": "stdout",
     "output_type": "stream",
     "text": [
      "(A, B)\n",
      "(C, E)\n",
      "(B, E)\n",
      "(B, C)\n",
      "(E, F)\n",
      "(E, D)\n",
      "(D, B)\n"
     ]
    }
   ],
   "source": [
    "# add a bunch of edges between vertices\n",
    "g.add_edge('A','B')\n",
    "g.add_edge('B','C')\n",
    "g.add_edge('C','E')\n",
    "g.add_edge('E','D')\n",
    "g.add_edge('D','B')\n",
    "g.add_edge('E','F')\n",
    "g.add_edge('B','E')\n",
    "for v in g:\n",
    "    for w in v.get_connections():\n",
    "        print(\"(%s, %s)\" % (v.get_id(), w.get_id()))"
   ]
  },
  {
   "cell_type": "code",
   "execution_count": 5,
   "metadata": {
    "collapsed": false
   },
   "outputs": [
    {
     "name": "stdout",
     "output_type": "stream",
     "text": [
      "A connected to: ['B']\n",
      "B connected to: ['E', 'C']\n",
      "C connected to: ['E']\n",
      "D connected to: ['B']\n",
      "E connected to: ['F', 'D']\n",
      "F connected to: []\n",
      "G connected to: []\n"
     ]
    }
   ],
   "source": [
    "# list our vertices\n",
    "for i in node_names:\n",
    "    print(g.get_vertex(i))"
   ]
  },
  {
   "cell_type": "code",
   "execution_count": 6,
   "metadata": {
    "collapsed": false
   },
   "outputs": [],
   "source": [
    "from collections import deque\n",
    "\n",
    "def breadth_first_search(starting_node, goal_node):\n",
    "    visited_nodes = set()\n",
    "    queue = deque([starting_node])\n",
    "    \n",
    "    while len(queue) > 0:\n",
    "        node = queue.pop()\n",
    "        if node in visited_nodes:\n",
    "            continue\n",
    "        \n",
    "        visited_nodes.add(node)\n",
    "        if node.get_id == goal_node.get_id:\n",
    "            return True\n",
    "        \n",
    "        for n in node.connected_to:\n",
    "            if n not in visited_nodes:\n",
    "                queue.appendleft(n)\n",
    "    return False        "
   ]
  },
  {
   "cell_type": "markdown",
   "metadata": {},
   "source": [
    "Using the `breadth_first_search` implementation that we've written, above, we can then ask the graph is there exists a path between multiple nodes. Our function will return a `True` or a `False` accordingly."
   ]
  },
  {
   "cell_type": "code",
   "execution_count": 81,
   "metadata": {
    "collapsed": false
   },
   "outputs": [
    {
     "data": {
      "text/plain": [
       "False"
      ]
     },
     "execution_count": 81,
     "metadata": {},
     "output_type": "execute_result"
    }
   ],
   "source": [
    "breadth_first_search(g.get_vertex('A'), g.get_vertex('G'))"
   ]
  },
  {
   "cell_type": "markdown",
   "metadata": {},
   "source": [
    "Past creating our own Vertex and Graph objects that we can use to assemble our own graphs, we can use libraries like NetworkX to create graphs and implement algorithms, like breadth first search, over them."
   ]
  },
  {
   "cell_type": "code",
   "execution_count": 8,
   "metadata": {
    "collapsed": false
   },
   "outputs": [
    {
     "name": "stderr",
     "output_type": "stream",
     "text": [
      "/usr/lib/pymodules/python2.7/matplotlib/collections.py:608: FutureWarning: elementwise comparison failed; returning scalar instead, but in the future will perform elementwise comparison\n",
      "  if self._edgecolors_original != 'face':\n",
      "/usr/lib/pymodules/python2.7/matplotlib/collections.py:548: FutureWarning: elementwise comparison failed; returning scalar instead, but in the future will perform elementwise comparison\n",
      "  if self._edgecolors == 'face':\n"
     ]
    },
    {
     "data": {
      "image/png": "[encoded data removed]",
      "text/plain": [
       "<matplotlib.figure.Figure at 0x7ff39f5150d0>"
      ]
     },
     "metadata": {},
     "output_type": "display_data"
    }
   ],
   "source": [
    "import networkx as nx\n",
    "\n",
    "import matplotlib.pyplot as plt\n",
    "\n",
    "%matplotlib inline\n",
    "\n",
    "edges = [('A','B'),('B','C'),('C','E'),\n",
    "         ('E','D'),('D','B'),('E','F'),\n",
    "         ('B','E')]\n",
    "\n",
    "networkx_graph = nx.Graph()\n",
    "\n",
    "for node in node_names:\n",
    "    networkx_graph.add_node(node)\n",
    "\n",
    "networkx_graph.add_edges_from(edges)\n",
    "\n",
    "nx.draw_networkx(networkx_graph)"
   ]
  },
  {
   "cell_type": "markdown",
   "metadata": {},
   "source": [
    "But the library also has the added ability to generate random graphs for us. In this case, the `dense_gnm_random_graph()` will generate a random graph of $G_{n,m}$ where $n$ is the node count and $m$ are the number of edges randomly distributed throughout the graph."
   ]
  },
  {
   "cell_type": "code",
   "execution_count": 57,
   "metadata": {
    "collapsed": false
   },
   "outputs": [
    {
     "data": {
      "image/png": "[encoded data removed]",
      "text/plain": [
       "<matplotlib.figure.Figure at 0x7ff39d1a9910>"
      ]
     },
     "metadata": {},
     "output_type": "display_data"
    }
   ],
   "source": [
    "networkx_graph_1 = nx.dense_gnm_random_graph(10,10)\n",
    "\n",
    "nx.draw_networkx(networkx_graph_1)"
   ]
  },
  {
   "cell_type": "markdown",
   "metadata": {},
   "source": [
    "The networkx library tends to return iterators for each object within the graph context, such as the graph iteself, or the nodes within a graph or the neighbors of a particular node within the graph. This is useful because traversal algorithms such as breadth first search tend to operator in an iterative manner.\n",
    "\n",
    "`nodes` returns an iterable for the nodes in a graph\n",
    "\n",
    "`all_neighbors` returns an interable for all neighbors of a passed in graph and specific node"
   ]
  },
  {
   "cell_type": "code",
   "execution_count": 91,
   "metadata": {
    "collapsed": false
   },
   "outputs": [
    {
     "name": "stdout",
     "output_type": "stream",
     "text": [
      "Node 0 has neighbors : [3]\n",
      "Node 1 has neighbors : []\n",
      "Node 2 has neighbors : [4, 6]\n",
      "Node 3 has neighbors : [0, 9, 5]\n",
      "Node 4 has neighbors : [9, 2]\n",
      "Node 5 has neighbors : [3]\n",
      "Node 6 has neighbors : [8, 2]\n",
      "Node 7 has neighbors : [8, 9]\n",
      "Node 8 has neighbors : [9, 6, 7]\n",
      "Node 9 has neighbors : [8, 3, 4, 7]\n"
     ]
    }
   ],
   "source": [
    "# quick hack to traverse the iterables returned\n",
    "for node in nx.nodes(networkx_graph_1):\n",
    "    neighbors = []\n",
    "    for neighbor in nx.all_neighbors(networkx_graph_1, node):\n",
    "        neighbors.append(neighbor)\n",
    "    print(\"Node %s has neighbors : %s\" % (node, neighbors))   "
   ]
  },
  {
   "cell_type": "markdown",
   "metadata": {},
   "source": [
    "Or just because, here's a list comprehension that can do the same thing, that actually shows off a bit of Python's nested list comprehension functionality. It is possible to also push the `print` function into the list comprehension below, but it only works in Python 3+ and but is not considered pythonic -- so I'm only leaving it to return the nested arrays that a list comprehension normally would."
   ]
  },
  {
   "cell_type": "code",
   "execution_count": 101,
   "metadata": {
    "collapsed": false
   },
   "outputs": [
    {
     "data": {
      "text/plain": [
       "[[3],\n",
       " [],\n",
       " [4, 6],\n",
       " [0, 9, 5],\n",
       " [9, 2],\n",
       " [3],\n",
       " [8, 2],\n",
       " [8, 9],\n",
       " [9, 6, 7],\n",
       " [8, 3, 4, 7]]"
      ]
     },
     "execution_count": 101,
     "metadata": {},
     "output_type": "execute_result"
    }
   ],
   "source": [
    "[[neighbor for neighbor in nx.all_neighbors(networkx_graph_1, node)] for node in nx.nodes(networkx_graph_1)]"
   ]
  },
  {
   "cell_type": "markdown",
   "metadata": {},
   "source": [
    "The networkx library also includes many, many algorithm implementations already so we can utilize their built-in `breadth_first_search` algorithm, as we see below. We're able to print a traversal of the graph starting at `node 0` and print the entire path taken through the graph."
   ]
  },
  {
   "cell_type": "code",
   "execution_count": 79,
   "metadata": {
    "collapsed": false
   },
   "outputs": [
    {
     "name": "stdout",
     "output_type": "stream",
     "text": [
      "[(0, 3), (3, 9), (3, 5), (9, 8), (9, 4), (9, 7), (8, 6), (4, 2)]\n"
     ]
    }
   ],
   "source": [
    "print(list(nx.bfs_edges(networkx_graph_1, 0)))"
   ]
  },
  {
   "cell_type": "markdown",
   "metadata": {},
   "source": [
    "Much like we see above, the networkx library also has a built-in depth first search algorithm that will traverse the graph and return an unordered list of tuples of edges that are traversed. I will save a depth first search implementation over our custom Graph object for future posts."
   ]
  },
  {
   "cell_type": "code",
   "execution_count": 80,
   "metadata": {
    "collapsed": false
   },
   "outputs": [
    {
     "name": "stdout",
     "output_type": "stream",
     "text": [
      "[(0, 3), (3, 9), (9, 8), (8, 6), (6, 2), (2, 4), (8, 7), (3, 5)]\n"
     ]
    }
   ],
   "source": [
    "print(list(nx.dfs_edges(networkx_graph_1, 0)))"
   ]
  },
  {
   "cell_type": "markdown",
   "metadata": {},
   "source": [
    "##### References \n",
    "\n",
    "[Problem Solving with Algorithms and Data Structures](https://interactivepython.org/courselib/static/pythonds/index.html)\n",
    "\n",
    "[NetworkX Documentation](http://networkx.readthedocs.io/en/networkx-1.11/index.html)"
   ]
  },
  {
   "cell_type": "code",
   "execution_count": null,
   "metadata": {
    "collapsed": true
   },
   "outputs": [],
   "source": []
  }
 ],
 "metadata": {
  "kernelspec": {
   "display_name": "Python 2",
   "language": "python",
   "name": "python2"
  },
  "language_info": {
   "codemirror_mode": {
    "name": "ipython",
    "version": 2
   },
   "file_extension": ".py",
   "mimetype": "text/x-python",
   "name": "python",
   "nbconvert_exporter": "python",
   "pygments_lexer": "ipython2",
   "version": "2.7.6"
  }
 },
 "nbformat": 4,
 "nbformat_minor": 0
}
